{
  "nbformat": 4,
  "nbformat_minor": 0,
  "metadata": {
    "colab": {
      "provenance": []
    },
    "kernelspec": {
      "name": "python3",
      "display_name": "Python 3"
    },
    "language_info": {
      "name": "python"
    }
  },
  "cells": [
    {
      "cell_type": "markdown",
      "source": [
        "Aula 02 - Pithon e bibliotecas para PLN\n"
      ],
      "metadata": {
        "id": "WuRECMgNpwHg"
      }
    },
    {
      "cell_type": "markdown",
      "source": [
        "## Exemplo 01 - Sintaxe básica"
      ],
      "metadata": {
        "id": "61SJkcTAqOe8"
      }
    },
    {
      "cell_type": "code",
      "execution_count": null,
      "metadata": {
        "colab": {
          "base_uri": "https://localhost:8080/"
        },
        "id": "xa6yvnr7lTc1",
        "outputId": "7e537c73-c6d7-43d3-aace-1cb0bcbfef92"
      },
      "outputs": [
        {
          "output_type": "stream",
          "name": "stdout",
          "text": [
            "Esta parte eu posso ler\n",
            "Esta parte eu posso ler\n"
          ]
        }
      ],
      "source": [
        "# Comentário pode ser feito de duas maneiras\n",
        "\n",
        "# A mais simples é usar # para comentar uma linha\n",
        "print('Esta parte eu posso ler')\n",
        "\n",
        "\"\"\"\n",
        "A mais complexa é usar 3 aspas\n",
        "para comentar\n",
        "mais\n",
        "de\n",
        "uma\n",
        "linha\n",
        "\"\"\"\n",
        "\n",
        "print(\"Esta parte eu posso ler\")"
      ]
    },
    {
      "cell_type": "markdown",
      "source": [
        "## Exemplo 02 - Atribuição de variáveis"
      ],
      "metadata": {
        "id": "40VMKapurps6"
      }
    },
    {
      "cell_type": "code",
      "source": [
        "# No python tudo é tratado como objeto\n",
        "\n",
        "carros = 100\n",
        "\n",
        "# Significa que ele vai armazenar duas coisas ( o que é e o valor )\n",
        "# objeto = número inteiro , valor = 100 , rótulo = nome da variável\n",
        "\n",
        "espacoNoCarro = 4.0 # Valor real ou ponto flutuante\n",
        "motoristas = 30\n",
        "passageiros = 90\n",
        "carrosSemMotoristas = carros - motoristas\n",
        "carrosComMotoristas = motoristas\n",
        "capacidadeDePassageiros = carrosComMotoristas * espacoNoCarro\n",
        "mediaPassageirosPorCarro = passageiros / carrosComMotoristas\n",
        "\n",
        "print(\"Existem\", carros, \"disponíveis\")\n",
        "print(f\"Existem apenas {motoristas} disponíveis\")\n",
        "print(\"Nós podemos transportar {} pessoas hoje\".format(capacidadeDePassageiros))\n",
        "\n",
        "# as operações moldam o tipo de dado que vai ser apresentado\n",
        "print(100/5)\n",
        "print(\"{} + {} + {} + {}\".format(mediaPassageirosPorCarro,capacidadeDePassageiros,carrosComMotoristas,espacoNoCarro))\n",
        "print(f\"{mediaPassageirosPorCarro} * {capacidadeDePassageiros} * {carrosComMotoristas} * {espacoNoCarro}\")\n",
        "# int / int = real\n",
        "\n"
      ],
      "metadata": {
        "colab": {
          "base_uri": "https://localhost:8080/"
        },
        "id": "zRME66OOrvLf",
        "outputId": "e2dc8b0e-8e11-4748-daad-0b44c9718ad6"
      },
      "execution_count": null,
      "outputs": [
        {
          "output_type": "stream",
          "name": "stdout",
          "text": [
            "Existem 100 disponíveis\n",
            "Existem apenas 30 disponíveis\n",
            "Nós podemos transportar 120.0 pessoas hoje\n",
            "20.0\n",
            "3.0 + 120.0 + 30 + 4.0\n",
            "3.0 * 120.0 * 30 * 4.0\n"
          ]
        }
      ]
    },
    {
      "cell_type": "markdown",
      "source": [
        "##Exemplo 3 - Entradas e saídas"
      ],
      "metadata": {
        "id": "PisVBFwBvVRv"
      }
    },
    {
      "cell_type": "code",
      "source": [
        "print(\"Quantos anos você tem?\")\n",
        "idade = input()\n",
        "print(f\"Você tem {idade} anos.\")\n",
        "\n",
        "altura = input(\"Qual é a sua altura?\")\n",
        "print(f\"Sua altura é {altura} cm.\")\n",
        "\n",
        "print(\"O tipo de dado da idade é \", type(idade))\n",
        "print(\"O tipo de dado da altura é \", type(altura))\n",
        "\n",
        "# Reconhece como texto, não como número\n",
        "print(idade + altura) #vai concatenar\n",
        "\n",
        "#Precisa converter para número:\n",
        "valorIdade = int(idade)\n",
        "valorAltura = int(altura)\n",
        "\n",
        "# Verificar o tipo:\n",
        "print(\"O tipo de dado da idade é \", type(valorIdade))\n",
        "print(\"O tipo de dado da altura é \", type(valorAltura))\n",
        "\n",
        "#refazendo a soma:\n",
        "print(valorIdade + valorAltura)\n",
        "\n",
        "#converter ao realizar o input\n",
        "peso = int(input(\"Qual seu peso?\"))\n",
        "print(f\"\\nSeu peso é {peso} kg.\")"
      ],
      "metadata": {
        "colab": {
          "base_uri": "https://localhost:8080/"
        },
        "id": "J5Ey51flvazg",
        "outputId": "7af98950-4b03-4c8b-b3df-5d64d42024b8"
      },
      "execution_count": null,
      "outputs": [
        {
          "output_type": "stream",
          "name": "stdout",
          "text": [
            "Quantos anos você tem?\n",
            "48\n",
            "Você tem 48 anos.\n",
            "Qual é a sua altura?185\n",
            "Sua altura é 185 cm.\n",
            "O tipo de dado da idade é  <class 'str'>\n",
            "O tipo de dado da altura é  <class 'str'>\n",
            "48185\n",
            "O tipo de dado da idade é  <class 'int'>\n",
            "O tipo de dado da altura é  <class 'int'>\n",
            "233\n",
            "Qual seu peso?95\n",
            "\n",
            "Seu peso é 95 kg.\n"
          ]
        }
      ]
    },
    {
      "cell_type": "markdown",
      "source": [
        "## Exemplo 4 - operadores"
      ],
      "metadata": {
        "id": "XqNIPtVfyYvm"
      }
    },
    {
      "cell_type": "code",
      "source": [
        "print(\"Contando aves do meu galinheiro.\")\n",
        "print(\"Franguinhos\", 25 + 30 / 6)\n",
        "print(\"Galos\", 100.0 - 25 * 3 % 4)\n",
        "\n",
        "print('\\nAgora vou contar os ovos.')\n",
        "print(3 + 2 + 1 - 5 + 4 % 2 - 1 / 4 + 6)\n",
        "\n",
        "print(\"\\nEste resultado é verdadeiro: 3 + 2 < 5 - 7 ?\")\n",
        "print(3 + 2 < 5 - 7)\n",
        "print(\"Quanto é 3 + 2?\", 3 + 2)\n",
        "print(\"Quanto é 5 - 7\", 5 - 7)\n",
        "print(\"O que é maior?\", 5 > -2)\n"
      ],
      "metadata": {
        "colab": {
          "base_uri": "https://localhost:8080/"
        },
        "id": "MxF-T7abyd2f",
        "outputId": "6614e89c-ecc4-43f6-d082-da39c00826a8"
      },
      "execution_count": null,
      "outputs": [
        {
          "output_type": "stream",
          "name": "stdout",
          "text": [
            "Contando aves do meu galinheiro.\n",
            "Franguinhos 30.0\n",
            "Galos 97.0\n",
            "\n",
            "Agora vou contar os ovos.\n",
            "6.75\n",
            "\n",
            "Este resultado é verdadeiro: 3 + 2 < 5 - 7 ?\n",
            "False\n",
            "Quanto é 3 + 2? 5\n",
            "Quanto é 5 - 7 -2\n",
            "O que é maior? True\n"
          ]
        }
      ]
    },
    {
      "cell_type": "markdown",
      "source": [
        "##Exemplo 05 - Estruturas condicionais"
      ],
      "metadata": {
        "id": "UOu77Df40_NV"
      }
    },
    {
      "cell_type": "code",
      "source": [
        "\"\"\"\n",
        "if ():\n",
        "  instrução\n",
        "  instrução\n",
        "  instrução\n",
        "instrução fora da condicional\n",
        "\"\"\"\n",
        "\n",
        "pessoas = 30\n",
        "carros = 40\n",
        "caminhoes = 150\n",
        "motos = 2\n",
        "\n",
        "#Desvio condicional simples\n",
        "if(carros > pessoas):\n",
        "  print(\"Nós podemos pegar um carro\")\n",
        "\n",
        "print(\"\\nInstrução fora da condicional(fora do if)\")\n",
        "\n",
        "#Desvio condicional composto\n",
        "if(carros < pessoas):\n",
        "  print(\"\\nNós não podemos pegar um carro\")\n",
        "else:\n",
        "  print(\"\\nNós podemos pegar um carro\")\n",
        "\n",
        "#usando varios ifs\n",
        "if(carros < pessoas):\n",
        "  print(\"\\nNós não podemos pegar um carro\")\n",
        "\n",
        "elif(carros < caminhoes):\n",
        "  print(\"\\nNós não podemos pegar um caminhao\")\n",
        "\n",
        "elif(carros < motos):\n",
        "  print(\"\\nNós não podemos pegar uma moto\")\n",
        "\n",
        "else:\n",
        "  print(\"\\nNós podemos pegar um carro\")"
      ],
      "metadata": {
        "colab": {
          "base_uri": "https://localhost:8080/"
        },
        "id": "TwLUskDY1El-",
        "outputId": "079be663-ec10-43c0-ab80-c23275981503"
      },
      "execution_count": null,
      "outputs": [
        {
          "output_type": "stream",
          "name": "stdout",
          "text": [
            "Nós podemos pegar um carro\n",
            "\n",
            "Instrução fora da condicional(fora do if)\n",
            "\n",
            "Nós podemos pegar um carro\n",
            "\n",
            "Nós não podemos pegar um caminhao\n"
          ]
        }
      ]
    },
    {
      "cell_type": "markdown",
      "source": [
        "## Exemplo 06 - Laços de repetição"
      ],
      "metadata": {
        "id": "S40XmwBM-krw"
      }
    },
    {
      "cell_type": "code",
      "source": [
        "\"\"\"\n",
        "while(condição):\n",
        "  instruções a serem repetidas\n",
        "\n",
        "for variavelDeContagem in rangeASerPercorrido\n",
        "\n",
        "for Contador in range(contagem):\n",
        "  instruções a serem repetidas\n",
        "\n",
        "\"\"\"\n",
        "\n",
        "i = 0\n",
        "\n",
        "# Variável simples - armazena apenas um valor\n",
        "\n",
        "# Variável composta - armazena vários valores\n",
        "# lista - mutáveis: [a,b,c,45,a,b,[ad]]\n",
        "# tuplas - imutáveis: (a,b,c,45,asd,asd,c(asdfgh))\n",
        "# conjuntos - mutável mas sem repetição {valor1, valor2, valor3, ...}\n",
        "\n",
        "number = [] # inicializar uma variável composta do tipo lista\n",
        "\n",
        "while(i < 6):\n",
        "  print(f\"Estou indo com while de 0 até {i}\")\n",
        "  number.append(i)\n",
        "\n",
        "  i = i + 1\n",
        "  print(f'O valor da lista é {number}')\n",
        "\n",
        "print(\"\\n\\n\")\n",
        "\n",
        "for i in range(0,6):\n",
        "  print(f\"Estou indo com for de 0 até {i}\")\n",
        "  number.append(i)\n",
        "\n",
        "  print(f'O valor da lista é {number}')\n",
        "\n",
        "print(\"\\n\\n\")\n",
        "\n",
        "texto = \"Aula de sexta-feira\"\n",
        "\n",
        "for i in texto:\n",
        "  print(f\"Estou indo com for de 0 até {i}\")\n",
        "  number.append(i)\n",
        "\n",
        "  print(f'O valor da lista é {number}')\n"
      ],
      "metadata": {
        "colab": {
          "base_uri": "https://localhost:8080/"
        },
        "id": "w616vsAd-tWs",
        "outputId": "25755cef-65b5-49a8-b0a5-4e6320b4adda"
      },
      "execution_count": null,
      "outputs": [
        {
          "output_type": "stream",
          "name": "stdout",
          "text": [
            "Estou indo com while de 0 até 0\n",
            "O valor da lista é [0]\n",
            "Estou indo com while de 0 até 1\n",
            "O valor da lista é [0, 1]\n",
            "Estou indo com while de 0 até 2\n",
            "O valor da lista é [0, 1, 2]\n",
            "Estou indo com while de 0 até 3\n",
            "O valor da lista é [0, 1, 2, 3]\n",
            "Estou indo com while de 0 até 4\n",
            "O valor da lista é [0, 1, 2, 3, 4]\n",
            "Estou indo com while de 0 até 5\n",
            "O valor da lista é [0, 1, 2, 3, 4, 5]\n",
            "\n",
            "\n",
            "\n",
            "Estou indo com for de 0 até 0\n",
            "O valor da lista é [0, 1, 2, 3, 4, 5, 0]\n",
            "Estou indo com for de 0 até 1\n",
            "O valor da lista é [0, 1, 2, 3, 4, 5, 0, 1]\n",
            "Estou indo com for de 0 até 2\n",
            "O valor da lista é [0, 1, 2, 3, 4, 5, 0, 1, 2]\n",
            "Estou indo com for de 0 até 3\n",
            "O valor da lista é [0, 1, 2, 3, 4, 5, 0, 1, 2, 3]\n",
            "Estou indo com for de 0 até 4\n",
            "O valor da lista é [0, 1, 2, 3, 4, 5, 0, 1, 2, 3, 4]\n",
            "Estou indo com for de 0 até 5\n",
            "O valor da lista é [0, 1, 2, 3, 4, 5, 0, 1, 2, 3, 4, 5]\n",
            "\n",
            "\n",
            "\n",
            "Estou indo com for de 0 até A\n",
            "O valor da lista é [0, 1, 2, 3, 4, 5, 0, 1, 2, 3, 4, 5, 'A']\n",
            "Estou indo com for de 0 até u\n",
            "O valor da lista é [0, 1, 2, 3, 4, 5, 0, 1, 2, 3, 4, 5, 'A', 'u']\n",
            "Estou indo com for de 0 até l\n",
            "O valor da lista é [0, 1, 2, 3, 4, 5, 0, 1, 2, 3, 4, 5, 'A', 'u', 'l']\n",
            "Estou indo com for de 0 até a\n",
            "O valor da lista é [0, 1, 2, 3, 4, 5, 0, 1, 2, 3, 4, 5, 'A', 'u', 'l', 'a']\n",
            "Estou indo com for de 0 até  \n",
            "O valor da lista é [0, 1, 2, 3, 4, 5, 0, 1, 2, 3, 4, 5, 'A', 'u', 'l', 'a', ' ']\n",
            "Estou indo com for de 0 até d\n",
            "O valor da lista é [0, 1, 2, 3, 4, 5, 0, 1, 2, 3, 4, 5, 'A', 'u', 'l', 'a', ' ', 'd']\n",
            "Estou indo com for de 0 até e\n",
            "O valor da lista é [0, 1, 2, 3, 4, 5, 0, 1, 2, 3, 4, 5, 'A', 'u', 'l', 'a', ' ', 'd', 'e']\n",
            "Estou indo com for de 0 até  \n",
            "O valor da lista é [0, 1, 2, 3, 4, 5, 0, 1, 2, 3, 4, 5, 'A', 'u', 'l', 'a', ' ', 'd', 'e', ' ']\n",
            "Estou indo com for de 0 até s\n",
            "O valor da lista é [0, 1, 2, 3, 4, 5, 0, 1, 2, 3, 4, 5, 'A', 'u', 'l', 'a', ' ', 'd', 'e', ' ', 's']\n",
            "Estou indo com for de 0 até e\n",
            "O valor da lista é [0, 1, 2, 3, 4, 5, 0, 1, 2, 3, 4, 5, 'A', 'u', 'l', 'a', ' ', 'd', 'e', ' ', 's', 'e']\n",
            "Estou indo com for de 0 até x\n",
            "O valor da lista é [0, 1, 2, 3, 4, 5, 0, 1, 2, 3, 4, 5, 'A', 'u', 'l', 'a', ' ', 'd', 'e', ' ', 's', 'e', 'x']\n",
            "Estou indo com for de 0 até t\n",
            "O valor da lista é [0, 1, 2, 3, 4, 5, 0, 1, 2, 3, 4, 5, 'A', 'u', 'l', 'a', ' ', 'd', 'e', ' ', 's', 'e', 'x', 't']\n",
            "Estou indo com for de 0 até a\n",
            "O valor da lista é [0, 1, 2, 3, 4, 5, 0, 1, 2, 3, 4, 5, 'A', 'u', 'l', 'a', ' ', 'd', 'e', ' ', 's', 'e', 'x', 't', 'a']\n",
            "Estou indo com for de 0 até -\n",
            "O valor da lista é [0, 1, 2, 3, 4, 5, 0, 1, 2, 3, 4, 5, 'A', 'u', 'l', 'a', ' ', 'd', 'e', ' ', 's', 'e', 'x', 't', 'a', '-']\n",
            "Estou indo com for de 0 até f\n",
            "O valor da lista é [0, 1, 2, 3, 4, 5, 0, 1, 2, 3, 4, 5, 'A', 'u', 'l', 'a', ' ', 'd', 'e', ' ', 's', 'e', 'x', 't', 'a', '-', 'f']\n",
            "Estou indo com for de 0 até e\n",
            "O valor da lista é [0, 1, 2, 3, 4, 5, 0, 1, 2, 3, 4, 5, 'A', 'u', 'l', 'a', ' ', 'd', 'e', ' ', 's', 'e', 'x', 't', 'a', '-', 'f', 'e']\n",
            "Estou indo com for de 0 até i\n",
            "O valor da lista é [0, 1, 2, 3, 4, 5, 0, 1, 2, 3, 4, 5, 'A', 'u', 'l', 'a', ' ', 'd', 'e', ' ', 's', 'e', 'x', 't', 'a', '-', 'f', 'e', 'i']\n",
            "Estou indo com for de 0 até r\n",
            "O valor da lista é [0, 1, 2, 3, 4, 5, 0, 1, 2, 3, 4, 5, 'A', 'u', 'l', 'a', ' ', 'd', 'e', ' ', 's', 'e', 'x', 't', 'a', '-', 'f', 'e', 'i', 'r']\n",
            "Estou indo com for de 0 até a\n",
            "O valor da lista é [0, 1, 2, 3, 4, 5, 0, 1, 2, 3, 4, 5, 'A', 'u', 'l', 'a', ' ', 'd', 'e', ' ', 's', 'e', 'x', 't', 'a', '-', 'f', 'e', 'i', 'r', 'a']\n"
          ]
        }
      ]
    }
  ]
}