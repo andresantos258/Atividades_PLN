{
  "cells": [
    {
      "cell_type": "markdown",
      "id": "e3717be0",
      "metadata": {
        "id": "e3717be0"
      },
      "source": [
        "#Aula 05 - Análise Sintática"
      ]
    },
    {
      "cell_type": "markdown",
      "id": "41a6aa6e",
      "metadata": {
        "id": "41a6aa6e"
      },
      "source": []
    },
    {
      "cell_type": "markdown",
      "id": "b0bd2759",
      "metadata": {
        "id": "b0bd2759"
      },
      "source": [
        "processamento do corpus"
      ]
    },
    {
      "cell_type": "code",
      "execution_count": 1,
      "id": "fbe1f788",
      "metadata": {
        "id": "fbe1f788"
      },
      "outputs": [],
      "source": [
        "\n",
        "def ler(nome_arquivo):\n",
        "  arquivo = open(nome_arquivo, 'r', encoding='utf-8')\n",
        "  conteudo_arquivo = arquivo.read()\n",
        "  arquivo.close()\n",
        "  return conteudo_arquivo\n",
        ""
      ]
    },
    {
      "cell_type": "code",
      "execution_count": 3,
      "id": "5353d532",
      "metadata": {
        "colab": {
          "base_uri": "https://localhost:8080/"
        },
        "id": "5353d532",
        "outputId": "2e9e5088-556e-4380-89a1-8fd911fa4999"
      },
      "outputs": [
        {
          "output_type": "stream",
          "name": "stdout",
          "text": [
            "219835\n"
          ]
        }
      ],
      "source": [
        "\n",
        "texto = ler('2025.05 Ubirajara.txt')\n",
        "print(len(texto))"
      ]
    },
    {
      "cell_type": "markdown",
      "id": "f9466578",
      "metadata": {
        "id": "f9466578"
      },
      "source": [
        "Buscador de palavras"
      ]
    },
    {
      "cell_type": "code",
      "execution_count": 4,
      "id": "86952dfb",
      "metadata": {
        "id": "86952dfb"
      },
      "outputs": [],
      "source": [
        "def buscador(alvo, texto):\n",
        "  texto = texto.replace('\\n', ' ')\n",
        "  texto = texto.replace('\\t', ' ')\n",
        "\n",
        "  ocorrencias = []\n",
        "  encontrado_aqui = texto.find(alvo, 0)\n",
        "\n",
        "  while encontrado_aqui > 0:\n",
        "    pos_inicial = encontrado_aqui - (40 - len(alvo))\n",
        "    trecho = texto[pos_inicial: pos_inicial + 80]\n",
        "\n",
        "    ocorrencias.append(trecho)\n",
        "\n",
        "    encontrado_aqui = texto.find(alvo, encontrado_aqui + 1)\n",
        "\n",
        "  return ocorrencias"
      ]
    },
    {
      "cell_type": "code",
      "execution_count": 5,
      "id": "e050d765",
      "metadata": {
        "colab": {
          "base_uri": "https://localhost:8080/"
        },
        "id": "e050d765",
        "outputId": "6f2ce882-edb0-4a43-dd22-2c210b730d28"
      },
      "outputs": [
        {
          "output_type": "stream",
          "name": "stdout",
          "text": [
            " o chefe tocantim quem recebeu no peito a ponta farpada.  Quando o corpo robusto\n",
            "nça, escrava de Jaguarê, cravou o peito do inimigo.  «Elle caiu, o guerreiro che\n",
            " labio de Jandira emudeceu; mas o peito soluçou.  A virjem conheceu que o amor d\n",
            "dos que os botões do cardo por um peito feroz, e as mãos lijeiras que tecem os f\n",
            "nte do Xingú.  As arvores que seu peito encontrava caíam lascadas.  Jurandir est\n",
            ". Os noivos cuidavam que era a do peito do tucano; mas ella sabia que era do pei\n",
            "tucano; mas ella sabia que era do peito da arára e que tinha as côres de seu gue\n",
            "s o grito de espanto sossobrou no peito dos guerreiros, e rompeu em um grito de \n",
            " do guerreiro quando se cruzam ao peito para exprimir a amizade.  Ubirajara apan\n",
            "u guerreiro.  Ubirajara cinjiu ao peito com um e outro braço, a espoza e a virje\n"
          ]
        }
      ],
      "source": [
        "\n",
        "resultados = buscador(' peito ', texto)\n",
        "for trecho in resultados:\n",
        "  print(trecho)"
      ]
    },
    {
      "cell_type": "markdown",
      "id": "3cf11bac",
      "metadata": {
        "id": "3cf11bac"
      },
      "source": [
        "Limpeza dos corpus"
      ]
    },
    {
      "cell_type": "code",
      "execution_count": null,
      "id": "9f8f3c6c",
      "metadata": {
        "id": "9f8f3c6c"
      },
      "outputs": [],
      "source": [
        "palavras = texto.split()"
      ]
    },
    {
      "cell_type": "code",
      "execution_count": null,
      "id": "d7107dbf",
      "metadata": {
        "id": "d7107dbf"
      },
      "outputs": [],
      "source": [
        "\n",
        "def limpar(lista):\n",
        "  lixo = '.,:;?!\"`()[]{}/\\|@#$%\"&*-'\n",
        "  quase_limpo = [x.strip(lixo).lower() for x in lista]\n",
        "  return [x for x in quase_limpo if x.isalpha() or '-' not in x]\n",
        ""
      ]
    },
    {
      "cell_type": "code",
      "execution_count": null,
      "id": "e98ef723",
      "metadata": {
        "id": "e98ef723"
      },
      "outputs": [],
      "source": [
        "\n",
        "teste = \"Corre-se atras do carro, corre se o carro for embora.\"\n",
        "word = teste.split()\n",
        "\n",
        "print(word)\n",
        "print(limpar(word))"
      ]
    },
    {
      "cell_type": "code",
      "execution_count": null,
      "id": "c1f74287",
      "metadata": {
        "id": "c1f74287"
      },
      "outputs": [],
      "source": [
        "\n",
        "print(len(palavras) )\n",
        "palavras = limpar(palavras)\n",
        "print(len(palavras) )\n",
        ""
      ]
    },
    {
      "cell_type": "markdown",
      "id": "21bfa235",
      "metadata": {
        "id": "21bfa235"
      },
      "source": [
        "demonstração de estruturas funcionais"
      ]
    },
    {
      "cell_type": "markdown",
      "id": "bcfe4090",
      "metadata": {
        "id": "bcfe4090"
      },
      "source": [
        "pos Tagging com Spacy"
      ]
    },
    {
      "cell_type": "code",
      "execution_count": null,
      "id": "3ad0ac26",
      "metadata": {
        "id": "3ad0ac26"
      },
      "outputs": [],
      "source": [
        "#!pip install spacy\n",
        "#!python -m spacy download pt_core_news_sm\n",
        "\n",
        "import spacy\n",
        "nlp = spacy.load(\"pt_core_news_sm\")\n",
        "\n",
        "frase = input(\"Insira uma frase, gramaticalmente correta: \")\n",
        "doc = nlp(frase)\n",
        "\n",
        "for token in doc:\n",
        "  print(f\"{token.text} -> {token.pos_}\")"
      ]
    },
    {
      "cell_type": "markdown",
      "id": "037b6130",
      "metadata": {
        "id": "037b6130"
      },
      "source": [
        "pos tagging com nltk"
      ]
    },
    {
      "cell_type": "code",
      "execution_count": null,
      "id": "6f19c392",
      "metadata": {
        "id": "6f19c392"
      },
      "outputs": [],
      "source": [
        "\n",
        "#!pip install nltk\n",
        "#nltk.download(\"averaged_perceptron_tagger_eng\")\n",
        "#nltk.download('punkt_tab')\n",
        "\n",
        "import nltk\n",
        "\n",
        "frase = input(\"Insira uma frase, coerente: \")\n",
        "tokens = nltk.word_tokenize(frase)\n",
        "\n",
        "pos_tags = nltk. pos_tag(tokens)\n",
        "\n",
        "for palavra, classe in pos_tags:\n",
        "  print(f'{palavra}->{classe}')\n",
        ""
      ]
    },
    {
      "cell_type": "markdown",
      "id": "5d648f41",
      "metadata": {
        "id": "5d648f41"
      },
      "source": [
        "parsing de dependência com spacy"
      ]
    },
    {
      "cell_type": "code",
      "execution_count": null,
      "id": "436bd770",
      "metadata": {
        "id": "436bd770"
      },
      "outputs": [],
      "source": [
        "\n",
        "import spacy\n",
        "\n",
        "nlp = spacy. load('pt_core_news_sm' )\n",
        "\n",
        "frase = \"0 gato preto dorme na cadeira\"\n",
        "doc = nlp(frase)\n",
        "\n",
        "for token in doc:\n",
        "  print(f\"{token.text} -> {token.dep_} -> {token.head.text}\")"
      ]
    },
    {
      "cell_type": "markdown",
      "id": "c90376ec",
      "metadata": {
        "id": "c90376ec"
      },
      "source": [
        "análise de dependências com spacy"
      ]
    },
    {
      "cell_type": "code",
      "execution_count": null,
      "id": "83b98658",
      "metadata": {
        "id": "83b98658"
      },
      "outputs": [],
      "source": [
        "\n",
        "import spacy\n",
        "from spacy import displacy\n",
        "\n",
        "nlp = spacy.load('pt_core_news_sm' )\n",
        "\n",
        "frase = \"O gato preto dorme na cadeira.\"\n",
        "doc = nlp(frase)\n",
        "\n",
        "displacy.render(doc, style='dep', jupyter=True)"
      ]
    },
    {
      "cell_type": "markdown",
      "id": "b1681e4a",
      "metadata": {
        "id": "b1681e4a"
      },
      "source": [
        "análise de constituência com nltk"
      ]
    },
    {
      "cell_type": "code",
      "execution_count": null,
      "id": "e8ede3cb",
      "metadata": {
        "id": "e8ede3cb"
      },
      "outputs": [],
      "source": [
        "\n",
        "import nltk\n",
        "from nltk import Tree\n",
        "\n",
        "sintaxe = Tree('S', [\n",
        "  Tree('NP', [Tree('DET', ['O']), Tree('N', ['gato'])]),\n",
        "  Tree('VP', [Tree('V', ['dorme']),\n",
        "              Tree('PP', [Tree('P',['na']), Tree('NP',[Tree('N', ['cadeira'])])])])\n",
        "])\n",
        "\n",
        "sintaxe.pretty_print()"
      ]
    }
  ],
  "metadata": {
    "kernelspec": {
      "display_name": "Python 3",
      "language": "python",
      "name": "python3"
    },
    "language_info": {
      "codemirror_mode": {
        "name": "ipython",
        "version": 3
      },
      "file_extension": ".py",
      "mimetype": "text/x-python",
      "name": "python",
      "nbconvert_exporter": "python",
      "pygments_lexer": "ipython3",
      "version": "3.12.1"
    },
    "colab": {
      "provenance": []
    }
  },
  "nbformat": 4,
  "nbformat_minor": 5
}